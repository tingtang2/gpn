{
 "cells": [
  {
   "cell_type": "markdown",
   "metadata": {
    "id": "RVs1eelGRwcp",
    "user_expressions": []
   },
   "source": [
    "# GPN-MSA: basic example"
   ]
  },
  {
   "cell_type": "markdown",
   "metadata": {
    "id": "8B2MO9GJqTsH",
    "user_expressions": []
   },
   "source": [
    "## Setup"
   ]
  },
  {
   "cell_type": "code",
   "execution_count": 1,
   "metadata": {
    "colab": {
     "base_uri": "https://localhost:8080/"
    },
    "id": "Ff_VhW6GciQ-",
    "outputId": "8061dc34-0e39-48f4-cace-70be7e872c70",
    "tags": []
   },
   "outputs": [],
   "source": [
    "#!pip install --quiet git+https://github.com/songlab-cal/gpn.git"
   ]
  },
  {
   "cell_type": "code",
   "execution_count": 2,
   "metadata": {
    "id": "w1NVT828inDl",
    "tags": []
   },
   "outputs": [
    {
     "name": "stderr",
     "output_type": "stream",
     "text": [
      "/scratch/users/gbenegas/software/mambaforge/envs/gpn/lib/python3.11/site-packages/tqdm/auto.py:21: TqdmWarning: IProgress not found. Please update jupyter and ipywidgets. See https://ipywidgets.readthedocs.io/en/stable/user_install.html\n",
      "  from .autonotebook import tqdm as notebook_tqdm\n"
     ]
    }
   ],
   "source": [
    "from gpn.data import GenomeMSA, Tokenizer\n",
    "import gpn.model\n",
    "import matplotlib.pyplot as plt\n",
    "import numpy as np\n",
    "import pandas as pd\n",
    "import seaborn as sns\n",
    "from sklearn.preprocessing import StandardScaler\n",
    "import torch\n",
    "from transformers import AutoModel, AutoModelForMaskedLM"
   ]
  },
  {
   "cell_type": "code",
   "execution_count": 3,
   "metadata": {
    "id": "1vEIfi01nVf3",
    "tags": []
   },
   "outputs": [],
   "source": [
    "model_path = \"songlab/gpn-msa-sapiens\"\n",
    "# see README in https://huggingface.co/datasets/songlab/multiz100way for faster queries\n",
    "msa_path = \"zip:///::https://huggingface.co/datasets/songlab/multiz100way/resolve/main/89.zarr.zip\""
   ]
  },
  {
   "cell_type": "markdown",
   "metadata": {
    "id": "QP8qJdMLqL8C",
    "user_expressions": []
   },
   "source": [
    "## Loading data"
   ]
  },
  {
   "cell_type": "markdown",
   "metadata": {
    "id": "m1UWIDDproyK",
    "user_expressions": []
   },
   "source": [
    "Example region: chr6:31575665-31575793\n",
    "\n",
    "[UCSC Genome Browser view](https://genome.ucsc.edu/cgi-bin/hgTracks?db=hg38&lastVirtModeType=default&lastVirtModeExtraState=&virtModeType=default&virtMode=0&nonVirtPosition=&position=chr6%3A31575665%2D31575793&hgsid=1726885238_vIMnX2NGEluaKCXVZjeTkj97aydM) "
   ]
  },
  {
   "cell_type": "code",
   "execution_count": 4,
   "metadata": {
    "id": "tGRtdN-jnTeE",
    "tags": []
   },
   "outputs": [],
   "source": [
    "genome_msa = GenomeMSA(msa_path)  # can take a minute or two"
   ]
  },
  {
   "cell_type": "code",
   "execution_count": 5,
   "metadata": {
    "tags": []
   },
   "outputs": [
    {
     "name": "stdout",
     "output_type": "stream",
     "text": [
      "(128, 90)\n"
     ]
    },
    {
     "data": {
      "text/plain": [
       "array([[b'A', b'A', b'-', ..., b'-', b'-', b'-'],\n",
       "       [b'C', b'G', b'-', ..., b'-', b'-', b'-'],\n",
       "       [b'A', b'A', b'A', ..., b'-', b'-', b'-'],\n",
       "       ...,\n",
       "       [b'T', b'T', b'T', ..., b'-', b'-', b'-'],\n",
       "       [b'C', b'T', b'C', ..., b'-', b'-', b'-'],\n",
       "       [b'C', b'C', b'C', ..., b'-', b'-', b'-']], dtype='|S1')"
      ]
     },
     "execution_count": 5,
     "metadata": {},
     "output_type": "execute_result"
    }
   ],
   "source": [
    "# untokenized msa\n",
    "raw_msa = genome_msa.get_msa(\"6\", 31575665, 31575793, strand=\"+\", tokenize=False)\n",
    "print(raw_msa.shape)\n",
    "raw_msa"
   ]
  },
  {
   "cell_type": "code",
   "execution_count": 6,
   "metadata": {
    "tags": []
   },
   "outputs": [
    {
     "data": {
      "text/plain": [
       "array([[1, 1, 0, ..., 0, 0, 0],\n",
       "       [2, 3, 0, ..., 0, 0, 0],\n",
       "       [1, 1, 1, ..., 0, 0, 0],\n",
       "       ...,\n",
       "       [4, 4, 4, ..., 0, 0, 0],\n",
       "       [2, 4, 2, ..., 0, 0, 0],\n",
       "       [2, 2, 2, ..., 0, 0, 0]], dtype=uint8)"
      ]
     },
     "execution_count": 6,
     "metadata": {},
     "output_type": "execute_result"
    }
   ],
   "source": [
    "# tokenized msa\n",
    "msa = genome_msa.get_msa(\"6\", 31575665, 31575793, strand=\"+\", tokenize=True)\n",
    "msa"
   ]
  },
  {
   "cell_type": "code",
   "execution_count": 7,
   "metadata": {
    "colab": {
     "base_uri": "https://localhost:8080/"
    },
    "id": "MSP_Boyknu3h",
    "outputId": "d034824c-8c40-4aa9-b09c-965d64cca5f1",
    "tags": []
   },
   "outputs": [
    {
     "data": {
      "text/plain": [
       "tensor([[[1, 1, 0,  ..., 0, 0, 0],\n",
       "         [2, 3, 0,  ..., 0, 0, 0],\n",
       "         [1, 1, 1,  ..., 0, 0, 0],\n",
       "         ...,\n",
       "         [4, 4, 4,  ..., 0, 0, 0],\n",
       "         [2, 4, 2,  ..., 0, 0, 0],\n",
       "         [2, 2, 2,  ..., 0, 0, 0]]])"
      ]
     },
     "execution_count": 7,
     "metadata": {},
     "output_type": "execute_result"
    }
   ],
   "source": [
    "msa = torch.tensor(np.expand_dims(msa, 0).astype(np.int64))\n",
    "msa"
   ]
  },
  {
   "cell_type": "code",
   "execution_count": 8,
   "metadata": {
    "tags": []
   },
   "outputs": [
    {
     "data": {
      "text/plain": [
       "(torch.Size([1, 128]), torch.Size([1, 128, 89]))"
      ]
     },
     "execution_count": 8,
     "metadata": {},
     "output_type": "execute_result"
    }
   ],
   "source": [
    "# separating human from rest of species\n",
    "input_ids, aux_features = msa[:, :, 0], msa[:, :, 1:]\n",
    "input_ids.shape, aux_features.shape"
   ]
  },
  {
   "cell_type": "markdown",
   "metadata": {
    "id": "UPO1F9AMqX4j",
    "user_expressions": []
   },
   "source": [
    "## Embedding"
   ]
  },
  {
   "cell_type": "code",
   "execution_count": 9,
   "metadata": {
    "colab": {
     "base_uri": "https://localhost:8080/",
     "height": 81,
     "referenced_widgets": [
      "97f25fad58e74227a6749ebcb0d3a2ca",
      "4eda4eb6f402454dbcac5291a5f29abc",
      "970f81c26a394dc4bda3873eaaaac7c7",
      "c50b1366bd154b8e978f41c98ffd6ee7",
      "ef31b7e1794f4b88b4f1f7c5f248a363",
      "8152f00b91a440b6b2a89b0450f33863",
      "3f3a022c3f9941dc878c9555e81b396a",
      "ccb054f633e94d9b8933c18c8d33b004",
      "e77b002a23734ea1a745f451e89e3e7f",
      "b89186f4e08f41ab98a4f9925218516b",
      "0d29f3b4df1e4ab7998be9759604e341",
      "8f6d780f277d4f3b83aef4d5682524ce",
      "499dbcfa49424126945e7278be9d03b7",
      "13b94d2b13ad47db9f15f35a51646a7c",
      "88c20260168948b9872d27fbdded9bc3",
      "55274187bd1242c7915c181ae29ca629",
      "7c05e230e0c04b4b9ad7d4d2894d9b5a",
      "0711b4d38bd542cba6e80941295d0947",
      "ca0c1884a74c4d43bf5c0f391abdcb94",
      "1e39d8ee6a1d4db7ba296c4d2eb7dbc1",
      "a95bae4447e048348f556a54a5b6edad",
      "366a9fec003a4f6493919f806cafc58d"
     ]
    },
    "id": "fzoGR-oJn6cm",
    "outputId": "41c815b0-12e5-4628-c9d2-51e737370696",
    "tags": []
   },
   "outputs": [
    {
     "name": "stderr",
     "output_type": "stream",
     "text": [
      "Some weights of the model checkpoint at songlab/gpn-msa-sapiens were not used when initializing GPNRoFormerModel: ['cls.predictions.transform.LayerNorm.bias', 'cls.predictions.transform.dense.weight', 'cls.predictions.transform.LayerNorm.weight', 'cls.predictions.transform.dense.bias', 'cls.predictions.decoder.weight', 'cls.predictions.decoder.bias', 'cls.predictions.bias']\n",
      "- This IS expected if you are initializing GPNRoFormerModel from the checkpoint of a model trained on another task or with another architecture (e.g. initializing a BertForSequenceClassification model from a BertForPreTraining model).\n",
      "- This IS NOT expected if you are initializing GPNRoFormerModel from the checkpoint of a model that you expect to be exactly identical (initializing a BertForSequenceClassification model from a BertForSequenceClassification model).\n"
     ]
    }
   ],
   "source": [
    "model = AutoModel.from_pretrained(model_path)\n",
    "model.eval();"
   ]
  },
  {
   "cell_type": "code",
   "execution_count": 10,
   "metadata": {
    "colab": {
     "base_uri": "https://localhost:8080/"
    },
    "id": "N-myY8EoozJb",
    "outputId": "9b89ad0a-deb3-4051-e6b7-747fd0598777",
    "tags": []
   },
   "outputs": [
    {
     "data": {
      "text/plain": [
       "torch.Size([1, 128, 768])"
      ]
     },
     "execution_count": 10,
     "metadata": {},
     "output_type": "execute_result"
    }
   ],
   "source": [
    "with torch.no_grad():\n",
    "    embedding = model(input_ids=input_ids, aux_features=aux_features).last_hidden_state\n",
    "embedding.shape"
   ]
  },
  {
   "cell_type": "code",
   "execution_count": 11,
   "metadata": {
    "colab": {
     "base_uri": "https://localhost:8080/",
     "height": 492
    },
    "id": "cA3-evQtqy9Y",
    "outputId": "844672a4-0a46-4e96-f15e-e15a36b38b0b",
    "tags": []
   },
   "outputs": [
    {
     "data": {
      "text/html": [
       "<div>\n",
       "<style scoped>\n",
       "    .dataframe tbody tr th:only-of-type {\n",
       "        vertical-align: middle;\n",
       "    }\n",
       "\n",
       "    .dataframe tbody tr th {\n",
       "        vertical-align: top;\n",
       "    }\n",
       "\n",
       "    .dataframe thead th {\n",
       "        text-align: right;\n",
       "    }\n",
       "</style>\n",
       "<table border=\"1\" class=\"dataframe\">\n",
       "  <thead>\n",
       "    <tr style=\"text-align: right;\">\n",
       "      <th>Embedding dimension</th>\n",
       "      <th>0</th>\n",
       "      <th>1</th>\n",
       "      <th>2</th>\n",
       "      <th>3</th>\n",
       "      <th>4</th>\n",
       "      <th>5</th>\n",
       "      <th>6</th>\n",
       "      <th>7</th>\n",
       "      <th>8</th>\n",
       "      <th>9</th>\n",
       "      <th>...</th>\n",
       "      <th>758</th>\n",
       "      <th>759</th>\n",
       "      <th>760</th>\n",
       "      <th>761</th>\n",
       "      <th>762</th>\n",
       "      <th>763</th>\n",
       "      <th>764</th>\n",
       "      <th>765</th>\n",
       "      <th>766</th>\n",
       "      <th>767</th>\n",
       "    </tr>\n",
       "    <tr>\n",
       "      <th>Position</th>\n",
       "      <th></th>\n",
       "      <th></th>\n",
       "      <th></th>\n",
       "      <th></th>\n",
       "      <th></th>\n",
       "      <th></th>\n",
       "      <th></th>\n",
       "      <th></th>\n",
       "      <th></th>\n",
       "      <th></th>\n",
       "      <th></th>\n",
       "      <th></th>\n",
       "      <th></th>\n",
       "      <th></th>\n",
       "      <th></th>\n",
       "      <th></th>\n",
       "      <th></th>\n",
       "      <th></th>\n",
       "      <th></th>\n",
       "      <th></th>\n",
       "      <th></th>\n",
       "    </tr>\n",
       "  </thead>\n",
       "  <tbody>\n",
       "    <tr>\n",
       "      <th>0</th>\n",
       "      <td>-0.793460</td>\n",
       "      <td>0.605153</td>\n",
       "      <td>-1.583886</td>\n",
       "      <td>-0.542659</td>\n",
       "      <td>-1.312394</td>\n",
       "      <td>0.493330</td>\n",
       "      <td>-0.353474</td>\n",
       "      <td>0.889004</td>\n",
       "      <td>-0.649606</td>\n",
       "      <td>-0.368195</td>\n",
       "      <td>...</td>\n",
       "      <td>1.472854</td>\n",
       "      <td>0.091098</td>\n",
       "      <td>-0.044150</td>\n",
       "      <td>0.813585</td>\n",
       "      <td>1.267370</td>\n",
       "      <td>0.341651</td>\n",
       "      <td>0.256661</td>\n",
       "      <td>-2.196030</td>\n",
       "      <td>0.179917</td>\n",
       "      <td>0.220744</td>\n",
       "    </tr>\n",
       "    <tr>\n",
       "      <th>1</th>\n",
       "      <td>0.593601</td>\n",
       "      <td>-0.345529</td>\n",
       "      <td>0.447001</td>\n",
       "      <td>0.218888</td>\n",
       "      <td>-0.319071</td>\n",
       "      <td>0.721635</td>\n",
       "      <td>0.667857</td>\n",
       "      <td>-0.586375</td>\n",
       "      <td>0.121319</td>\n",
       "      <td>0.573092</td>\n",
       "      <td>...</td>\n",
       "      <td>0.747436</td>\n",
       "      <td>-0.199769</td>\n",
       "      <td>-1.047910</td>\n",
       "      <td>0.476114</td>\n",
       "      <td>-0.828803</td>\n",
       "      <td>-0.970284</td>\n",
       "      <td>-0.667071</td>\n",
       "      <td>-0.703088</td>\n",
       "      <td>-0.165467</td>\n",
       "      <td>0.493727</td>\n",
       "    </tr>\n",
       "    <tr>\n",
       "      <th>2</th>\n",
       "      <td>-0.287573</td>\n",
       "      <td>0.913004</td>\n",
       "      <td>-1.375024</td>\n",
       "      <td>-0.653606</td>\n",
       "      <td>-1.249884</td>\n",
       "      <td>0.062281</td>\n",
       "      <td>-0.632157</td>\n",
       "      <td>1.216259</td>\n",
       "      <td>-0.618074</td>\n",
       "      <td>-0.606616</td>\n",
       "      <td>...</td>\n",
       "      <td>0.902706</td>\n",
       "      <td>0.194269</td>\n",
       "      <td>-0.285796</td>\n",
       "      <td>0.801168</td>\n",
       "      <td>0.702376</td>\n",
       "      <td>-0.502150</td>\n",
       "      <td>0.179040</td>\n",
       "      <td>-1.586547</td>\n",
       "      <td>0.321579</td>\n",
       "      <td>1.016936</td>\n",
       "    </tr>\n",
       "    <tr>\n",
       "      <th>3</th>\n",
       "      <td>-0.847065</td>\n",
       "      <td>0.914218</td>\n",
       "      <td>-1.428794</td>\n",
       "      <td>-0.253545</td>\n",
       "      <td>-1.153859</td>\n",
       "      <td>0.515371</td>\n",
       "      <td>-0.489298</td>\n",
       "      <td>1.223763</td>\n",
       "      <td>-0.216737</td>\n",
       "      <td>-0.232051</td>\n",
       "      <td>...</td>\n",
       "      <td>1.674459</td>\n",
       "      <td>-0.623742</td>\n",
       "      <td>0.094558</td>\n",
       "      <td>1.107732</td>\n",
       "      <td>1.287710</td>\n",
       "      <td>0.625728</td>\n",
       "      <td>0.148599</td>\n",
       "      <td>-1.693072</td>\n",
       "      <td>0.085577</td>\n",
       "      <td>-0.342404</td>\n",
       "    </tr>\n",
       "    <tr>\n",
       "      <th>4</th>\n",
       "      <td>0.174905</td>\n",
       "      <td>-0.964661</td>\n",
       "      <td>-0.470735</td>\n",
       "      <td>0.883543</td>\n",
       "      <td>-0.313751</td>\n",
       "      <td>1.130918</td>\n",
       "      <td>-0.846813</td>\n",
       "      <td>1.395477</td>\n",
       "      <td>-0.662498</td>\n",
       "      <td>0.256760</td>\n",
       "      <td>...</td>\n",
       "      <td>-0.064593</td>\n",
       "      <td>-0.527352</td>\n",
       "      <td>0.662073</td>\n",
       "      <td>-0.547796</td>\n",
       "      <td>-0.570136</td>\n",
       "      <td>1.161361</td>\n",
       "      <td>-1.459216</td>\n",
       "      <td>-0.531189</td>\n",
       "      <td>0.866101</td>\n",
       "      <td>0.279880</td>\n",
       "    </tr>\n",
       "    <tr>\n",
       "      <th>...</th>\n",
       "      <td>...</td>\n",
       "      <td>...</td>\n",
       "      <td>...</td>\n",
       "      <td>...</td>\n",
       "      <td>...</td>\n",
       "      <td>...</td>\n",
       "      <td>...</td>\n",
       "      <td>...</td>\n",
       "      <td>...</td>\n",
       "      <td>...</td>\n",
       "      <td>...</td>\n",
       "      <td>...</td>\n",
       "      <td>...</td>\n",
       "      <td>...</td>\n",
       "      <td>...</td>\n",
       "      <td>...</td>\n",
       "      <td>...</td>\n",
       "      <td>...</td>\n",
       "      <td>...</td>\n",
       "      <td>...</td>\n",
       "      <td>...</td>\n",
       "    </tr>\n",
       "    <tr>\n",
       "      <th>123</th>\n",
       "      <td>-0.350832</td>\n",
       "      <td>-1.474939</td>\n",
       "      <td>-1.129313</td>\n",
       "      <td>0.438186</td>\n",
       "      <td>-0.554595</td>\n",
       "      <td>0.567339</td>\n",
       "      <td>-0.633881</td>\n",
       "      <td>0.826359</td>\n",
       "      <td>-0.997829</td>\n",
       "      <td>1.520874</td>\n",
       "      <td>...</td>\n",
       "      <td>-0.161489</td>\n",
       "      <td>-0.107504</td>\n",
       "      <td>1.147247</td>\n",
       "      <td>-1.364775</td>\n",
       "      <td>2.233690</td>\n",
       "      <td>-0.422305</td>\n",
       "      <td>-0.227845</td>\n",
       "      <td>3.326982</td>\n",
       "      <td>0.565312</td>\n",
       "      <td>-0.470890</td>\n",
       "    </tr>\n",
       "    <tr>\n",
       "      <th>124</th>\n",
       "      <td>-0.472841</td>\n",
       "      <td>0.958609</td>\n",
       "      <td>1.900296</td>\n",
       "      <td>-0.493118</td>\n",
       "      <td>-0.504176</td>\n",
       "      <td>-1.182258</td>\n",
       "      <td>2.055996</td>\n",
       "      <td>-1.383483</td>\n",
       "      <td>2.800460</td>\n",
       "      <td>-0.995337</td>\n",
       "      <td>...</td>\n",
       "      <td>1.192350</td>\n",
       "      <td>0.014169</td>\n",
       "      <td>0.670027</td>\n",
       "      <td>0.044374</td>\n",
       "      <td>1.375447</td>\n",
       "      <td>-0.186231</td>\n",
       "      <td>1.467670</td>\n",
       "      <td>0.651576</td>\n",
       "      <td>-1.963656</td>\n",
       "      <td>0.484896</td>\n",
       "    </tr>\n",
       "    <tr>\n",
       "      <th>125</th>\n",
       "      <td>-2.126083</td>\n",
       "      <td>-0.877145</td>\n",
       "      <td>-0.273190</td>\n",
       "      <td>-1.046106</td>\n",
       "      <td>3.342416</td>\n",
       "      <td>-0.535338</td>\n",
       "      <td>-0.684740</td>\n",
       "      <td>-0.866756</td>\n",
       "      <td>-1.770838</td>\n",
       "      <td>-0.774816</td>\n",
       "      <td>...</td>\n",
       "      <td>0.176887</td>\n",
       "      <td>1.544010</td>\n",
       "      <td>-0.064719</td>\n",
       "      <td>-0.380002</td>\n",
       "      <td>2.564108</td>\n",
       "      <td>0.028088</td>\n",
       "      <td>2.056381</td>\n",
       "      <td>0.267000</td>\n",
       "      <td>0.420038</td>\n",
       "      <td>-2.260433</td>\n",
       "    </tr>\n",
       "    <tr>\n",
       "      <th>126</th>\n",
       "      <td>1.648447</td>\n",
       "      <td>-0.619406</td>\n",
       "      <td>1.959265</td>\n",
       "      <td>-0.199003</td>\n",
       "      <td>-0.299568</td>\n",
       "      <td>-0.756020</td>\n",
       "      <td>1.458017</td>\n",
       "      <td>-1.648352</td>\n",
       "      <td>0.361720</td>\n",
       "      <td>-0.641424</td>\n",
       "      <td>...</td>\n",
       "      <td>1.833775</td>\n",
       "      <td>0.443321</td>\n",
       "      <td>0.638116</td>\n",
       "      <td>1.291241</td>\n",
       "      <td>-0.611877</td>\n",
       "      <td>1.644431</td>\n",
       "      <td>-1.155674</td>\n",
       "      <td>1.149436</td>\n",
       "      <td>-0.892421</td>\n",
       "      <td>0.114665</td>\n",
       "    </tr>\n",
       "    <tr>\n",
       "      <th>127</th>\n",
       "      <td>0.632165</td>\n",
       "      <td>-0.658903</td>\n",
       "      <td>1.611831</td>\n",
       "      <td>-0.460435</td>\n",
       "      <td>-0.933058</td>\n",
       "      <td>-1.398901</td>\n",
       "      <td>1.384714</td>\n",
       "      <td>-1.766635</td>\n",
       "      <td>1.818954</td>\n",
       "      <td>-0.541878</td>\n",
       "      <td>...</td>\n",
       "      <td>0.713797</td>\n",
       "      <td>1.243021</td>\n",
       "      <td>-0.273349</td>\n",
       "      <td>-0.705567</td>\n",
       "      <td>-0.027443</td>\n",
       "      <td>-0.145813</td>\n",
       "      <td>-0.834040</td>\n",
       "      <td>0.814321</td>\n",
       "      <td>-1.362843</td>\n",
       "      <td>0.296874</td>\n",
       "    </tr>\n",
       "  </tbody>\n",
       "</table>\n",
       "<p>128 rows × 768 columns</p>\n",
       "</div>"
      ],
      "text/plain": [
       "Embedding dimension       0         1         2         3         4     \n",
       "Position                                                                \n",
       "0                   -0.793460  0.605153 -1.583886 -0.542659 -1.312394  \\\n",
       "1                    0.593601 -0.345529  0.447001  0.218888 -0.319071   \n",
       "2                   -0.287573  0.913004 -1.375024 -0.653606 -1.249884   \n",
       "3                   -0.847065  0.914218 -1.428794 -0.253545 -1.153859   \n",
       "4                    0.174905 -0.964661 -0.470735  0.883543 -0.313751   \n",
       "...                       ...       ...       ...       ...       ...   \n",
       "123                 -0.350832 -1.474939 -1.129313  0.438186 -0.554595   \n",
       "124                 -0.472841  0.958609  1.900296 -0.493118 -0.504176   \n",
       "125                 -2.126083 -0.877145 -0.273190 -1.046106  3.342416   \n",
       "126                  1.648447 -0.619406  1.959265 -0.199003 -0.299568   \n",
       "127                  0.632165 -0.658903  1.611831 -0.460435 -0.933058   \n",
       "\n",
       "Embedding dimension       5         6         7         8         9    ...   \n",
       "Position                                                               ...   \n",
       "0                    0.493330 -0.353474  0.889004 -0.649606 -0.368195  ...  \\\n",
       "1                    0.721635  0.667857 -0.586375  0.121319  0.573092  ...   \n",
       "2                    0.062281 -0.632157  1.216259 -0.618074 -0.606616  ...   \n",
       "3                    0.515371 -0.489298  1.223763 -0.216737 -0.232051  ...   \n",
       "4                    1.130918 -0.846813  1.395477 -0.662498  0.256760  ...   \n",
       "...                       ...       ...       ...       ...       ...  ...   \n",
       "123                  0.567339 -0.633881  0.826359 -0.997829  1.520874  ...   \n",
       "124                 -1.182258  2.055996 -1.383483  2.800460 -0.995337  ...   \n",
       "125                 -0.535338 -0.684740 -0.866756 -1.770838 -0.774816  ...   \n",
       "126                 -0.756020  1.458017 -1.648352  0.361720 -0.641424  ...   \n",
       "127                 -1.398901  1.384714 -1.766635  1.818954 -0.541878  ...   \n",
       "\n",
       "Embedding dimension       758       759       760       761       762   \n",
       "Position                                                                \n",
       "0                    1.472854  0.091098 -0.044150  0.813585  1.267370  \\\n",
       "1                    0.747436 -0.199769 -1.047910  0.476114 -0.828803   \n",
       "2                    0.902706  0.194269 -0.285796  0.801168  0.702376   \n",
       "3                    1.674459 -0.623742  0.094558  1.107732  1.287710   \n",
       "4                   -0.064593 -0.527352  0.662073 -0.547796 -0.570136   \n",
       "...                       ...       ...       ...       ...       ...   \n",
       "123                 -0.161489 -0.107504  1.147247 -1.364775  2.233690   \n",
       "124                  1.192350  0.014169  0.670027  0.044374  1.375447   \n",
       "125                  0.176887  1.544010 -0.064719 -0.380002  2.564108   \n",
       "126                  1.833775  0.443321  0.638116  1.291241 -0.611877   \n",
       "127                  0.713797  1.243021 -0.273349 -0.705567 -0.027443   \n",
       "\n",
       "Embedding dimension       763       764       765       766       767  \n",
       "Position                                                               \n",
       "0                    0.341651  0.256661 -2.196030  0.179917  0.220744  \n",
       "1                   -0.970284 -0.667071 -0.703088 -0.165467  0.493727  \n",
       "2                   -0.502150  0.179040 -1.586547  0.321579  1.016936  \n",
       "3                    0.625728  0.148599 -1.693072  0.085577 -0.342404  \n",
       "4                    1.161361 -1.459216 -0.531189  0.866101  0.279880  \n",
       "...                       ...       ...       ...       ...       ...  \n",
       "123                 -0.422305 -0.227845  3.326982  0.565312 -0.470890  \n",
       "124                 -0.186231  1.467670  0.651576 -1.963656  0.484896  \n",
       "125                  0.028088  2.056381  0.267000  0.420038 -2.260433  \n",
       "126                  1.644431 -1.155674  1.149436 -0.892421  0.114665  \n",
       "127                 -0.145813 -0.834040  0.814321 -1.362843  0.296874  \n",
       "\n",
       "[128 rows x 768 columns]"
      ]
     },
     "execution_count": 11,
     "metadata": {},
     "output_type": "execute_result"
    }
   ],
   "source": [
    "# Let's do a quick visualization. We'll standardize the embeddings.\n",
    "embedding_df = pd.DataFrame(StandardScaler().fit_transform(embedding[0].numpy()))\n",
    "embedding_df.index.name = \"Position\"\n",
    "embedding_df.columns.name = \"Embedding dimension\"\n",
    "embedding_df"
   ]
  },
  {
   "cell_type": "code",
   "execution_count": 12,
   "metadata": {
    "colab": {
     "base_uri": "https://localhost:8080/",
     "height": 543
    },
    "id": "TzmA3rxus4D0",
    "outputId": "bfcfa51f-9a75-40ba-d09b-8dbba92a545c",
    "tags": []
   },
   "outputs": [
    {
     "data": {
      "image/png": "[encoded data removed]",
      "text/plain": [
       "<Figure size 720x432 with 2 Axes>"
      ]
     },
     "metadata": {
      "needs_background": "light"
     },
     "output_type": "display_data"
    }
   ],
   "source": [
    "# hard to see much, there seem to be differences between 5' UTR and CDS though\n",
    "plt.figure(figsize=(10, 6))\n",
    "sns.heatmap(embedding_df.T, center=0, vmin=-3, vmax=3, cmap=\"coolwarm\", square=False, xticklabels=100, yticklabels=100);"
   ]
  },
  {
   "cell_type": "markdown",
   "metadata": {
    "id": "wdXhFoV7qZ0E",
    "user_expressions": []
   },
   "source": [
    "## Masked language modeling"
   ]
  },
  {
   "cell_type": "code",
   "execution_count": 13,
   "metadata": {
    "id": "NIylcjPPowiV",
    "tags": []
   },
   "outputs": [],
   "source": [
    "model_for_mlm = AutoModelForMaskedLM.from_pretrained(model_path)\n",
    "model_for_mlm.eval();"
   ]
  },
  {
   "cell_type": "code",
   "execution_count": 14,
   "metadata": {
    "colab": {
     "base_uri": "https://localhost:8080/",
     "height": 35
    },
    "id": "V7Cd2NkxxSPr",
    "outputId": "ab490c60-9182-434c-816b-f69016cfe68e",
    "tags": []
   },
   "outputs": [
    {
     "data": {
      "text/plain": [
       "array([b'A', b'T', b'G'], dtype='|S1')"
      ]
     },
     "execution_count": 14,
     "metadata": {},
     "output_type": "execute_result"
    }
   ],
   "source": [
    "raw_msa[76:79, 0]  # Start codon"
   ]
  },
  {
   "cell_type": "code",
   "execution_count": 15,
   "metadata": {
    "id": "kO9rF0G1z9Kh",
    "tags": []
   },
   "outputs": [],
   "source": [
    "tokenizer = Tokenizer()\n",
    "pos = 76  # Let's mask the A and check the model predictions\n",
    "input_ids[0, pos] = tokenizer.mask_token_id()"
   ]
  },
  {
   "cell_type": "code",
   "execution_count": 16,
   "metadata": {
    "colab": {
     "base_uri": "https://localhost:8080/"
    },
    "id": "cAtduiXdpCmm",
    "outputId": "47b2260a-f955-404e-c3ca-fb81923cabe7",
    "tags": []
   },
   "outputs": [
    {
     "data": {
      "text/plain": [
       "torch.Size([1, 128, 6])"
      ]
     },
     "execution_count": 16,
     "metadata": {},
     "output_type": "execute_result"
    }
   ],
   "source": [
    "input_ids\n",
    "with torch.no_grad():\n",
    "    all_logits = model_for_mlm(input_ids=input_ids, aux_features=aux_features).logits\n",
    "all_logits.shape"
   ]
  },
  {
   "cell_type": "code",
   "execution_count": 17,
   "metadata": {
    "colab": {
     "base_uri": "https://localhost:8080/"
    },
    "id": "BHawpuUv0HhS",
    "outputId": "614d2bd3-b90f-4496-fb2a-196011eda352",
    "tags": []
   },
   "outputs": [
    {
     "data": {
      "text/plain": [
       "tensor([ 6.0621, -1.5262, -0.6878, -0.5625])"
      ]
     },
     "execution_count": 17,
     "metadata": {},
     "output_type": "execute_result"
    }
   ],
   "source": [
    "nucleotides = list('ACGT')\n",
    "logits = all_logits[0, pos, [tokenizer.vocab.index(nc) for nc in nucleotides]]\n",
    "logits"
   ]
  },
  {
   "cell_type": "code",
   "execution_count": 18,
   "metadata": {
    "colab": {
     "base_uri": "https://localhost:8080/"
    },
    "id": "t4VpWv510N8h",
    "outputId": "75f4a349-9c65-44df-b3fb-c907cbb85f64",
    "tags": []
   },
   "outputs": [
    {
     "data": {
      "text/plain": [
       "array([9.9700433e-01, 5.0483737e-04, 1.1674578e-03, 1.3233320e-03],\n",
       "      dtype=float32)"
      ]
     },
     "execution_count": 18,
     "metadata": {},
     "output_type": "execute_result"
    }
   ],
   "source": [
    "probs = torch.nn.functional.softmax(logits, dim=0).numpy()\n",
    "probs"
   ]
  },
  {
   "cell_type": "code",
   "execution_count": 19,
   "metadata": {
    "colab": {
     "base_uri": "https://localhost:8080/",
     "height": 466
    },
    "id": "2Wf18aOY1ad8",
    "outputId": "66038e26-7933-4d36-cc4a-66ccda691d3a",
    "tags": []
   },
   "outputs": [
    {
     "data": {
      "text/plain": [
       "<Axes: xlabel='nucleotide', ylabel='probability'>"
      ]
     },
     "execution_count": 19,
     "metadata": {},
     "output_type": "execute_result"
    },
    {
     "data": {
      "image/png": "[encoded data removed]",
      "text/plain": [
       "<Figure size 432x288 with 1 Axes>"
      ]
     },
     "metadata": {
      "needs_background": "light"
     },
     "output_type": "display_data"
    }
   ],
   "source": [
    "probs_df = pd.DataFrame(dict(nucleotide=nucleotides, probability=probs))\n",
    "sns.barplot(data=probs_df, x=\"nucleotide\", y=\"probability\")"
   ]
  }
 ],
 "metadata": {
  "colab": {
   "provenance": []
  },
  "kernelspec": {
   "display_name": "gpn",
   "language": "python",
   "name": "gpn"
  },
  "language_info": {
   "codemirror_mode": {
    "name": "ipython",
    "version": 3
   },
   "file_extension": ".py",
   "mimetype": "text/x-python",
   "name": "python",
   "nbconvert_exporter": "python",
   "pygments_lexer": "ipython3",
   "version": "3.11.3"
  },
  "widgets": {
   "application/vnd.jupyter.widget-state+json": {
    "0711b4d38bd542cba6e80941295d0947": {
     "model_module": "@jupyter-widgets/controls",
     "model_module_version": "1.5.0",
     "model_name": "DescriptionStyleModel",
     "state": {
      "_model_module": "@jupyter-widgets/controls",
      "_model_module_version": "1.5.0",
      "_model_name": "DescriptionStyleModel",
      "_view_count": null,
      "_view_module": "@jupyter-widgets/base",
      "_view_module_version": "1.2.0",
      "_view_name": "StyleView",
      "description_width": ""
     }
    },
    "0d29f3b4df1e4ab7998be9759604e341": {
     "model_module": "@jupyter-widgets/controls",
     "model_module_version": "1.5.0",
     "model_name": "DescriptionStyleModel",
     "state": {
      "_model_module": "@jupyter-widgets/controls",
      "_model_module_version": "1.5.0",
      "_model_name": "DescriptionStyleModel",
      "_view_count": null,
      "_view_module": "@jupyter-widgets/base",
      "_view_module_version": "1.2.0",
      "_view_name": "StyleView",
      "description_width": ""
     }
    },
    "13b94d2b13ad47db9f15f35a51646a7c": {
     "model_module": "@jupyter-widgets/controls",
     "model_module_version": "1.5.0",
     "model_name": "FloatProgressModel",
     "state": {
      "_dom_classes": [],
      "_model_module": "@jupyter-widgets/controls",
      "_model_module_version": "1.5.0",
      "_model_name": "FloatProgressModel",
      "_view_count": null,
      "_view_module": "@jupyter-widgets/controls",
      "_view_module_version": "1.5.0",
      "_view_name": "ProgressView",
      "bar_style": "success",
      "description": "",
      "description_tooltip": null,
      "layout": "IPY_MODEL_ca0c1884a74c4d43bf5c0f391abdcb94",
      "max": 263583749,
      "min": 0,
      "orientation": "horizontal",
      "style": "IPY_MODEL_1e39d8ee6a1d4db7ba296c4d2eb7dbc1",
      "value": 263583749
     }
    },
    "1e39d8ee6a1d4db7ba296c4d2eb7dbc1": {
     "model_module": "@jupyter-widgets/controls",
     "model_module_version": "1.5.0",
     "model_name": "ProgressStyleModel",
     "state": {
      "_model_module": "@jupyter-widgets/controls",
      "_model_module_version": "1.5.0",
      "_model_name": "ProgressStyleModel",
      "_view_count": null,
      "_view_module": "@jupyter-widgets/base",
      "_view_module_version": "1.2.0",
      "_view_name": "StyleView",
      "bar_color": null,
      "description_width": ""
     }
    },
    "366a9fec003a4f6493919f806cafc58d": {
     "model_module": "@jupyter-widgets/controls",
     "model_module_version": "1.5.0",
     "model_name": "DescriptionStyleModel",
     "state": {
      "_model_module": "@jupyter-widgets/controls",
      "_model_module_version": "1.5.0",
      "_model_name": "DescriptionStyleModel",
      "_view_count": null,
      "_view_module": "@jupyter-widgets/base",
      "_view_module_version": "1.2.0",
      "_view_name": "StyleView",
      "description_width": ""
     }
    },
    "3f3a022c3f9941dc878c9555e81b396a": {
     "model_module": "@jupyter-widgets/controls",
     "model_module_version": "1.5.0",
     "model_name": "DescriptionStyleModel",
     "state": {
      "_model_module": "@jupyter-widgets/controls",
      "_model_module_version": "1.5.0",
      "_model_name": "DescriptionStyleModel",
      "_view_count": null,
      "_view_module": "@jupyter-widgets/base",
      "_view_module_version": "1.2.0",
      "_view_name": "StyleView",
      "description_width": ""
     }
    },
    "499dbcfa49424126945e7278be9d03b7": {
     "model_module": "@jupyter-widgets/controls",
     "model_module_version": "1.5.0",
     "model_name": "HTMLModel",
     "state": {
      "_dom_classes": [],
      "_model_module": "@jupyter-widgets/controls",
      "_model_module_version": "1.5.0",
      "_model_name": "HTMLModel",
      "_view_count": null,
      "_view_module": "@jupyter-widgets/controls",
      "_view_module_version": "1.5.0",
      "_view_name": "HTMLView",
      "description": "",
      "description_tooltip": null,
      "layout": "IPY_MODEL_7c05e230e0c04b4b9ad7d4d2894d9b5a",
      "placeholder": "​",
      "style": "IPY_MODEL_0711b4d38bd542cba6e80941295d0947",
      "value": "Downloading pytorch_model.bin: 100%"
     }
    },
    "4eda4eb6f402454dbcac5291a5f29abc": {
     "model_module": "@jupyter-widgets/controls",
     "model_module_version": "1.5.0",
     "model_name": "HTMLModel",
     "state": {
      "_dom_classes": [],
      "_model_module": "@jupyter-widgets/controls",
      "_model_module_version": "1.5.0",
      "_model_name": "HTMLModel",
      "_view_count": null,
      "_view_module": "@jupyter-widgets/controls",
      "_view_module_version": "1.5.0",
      "_view_name": "HTMLView",
      "description": "",
      "description_tooltip": null,
      "layout": "IPY_MODEL_8152f00b91a440b6b2a89b0450f33863",
      "placeholder": "​",
      "style": "IPY_MODEL_3f3a022c3f9941dc878c9555e81b396a",
      "value": "Downloading (…)lve/main/config.json: 100%"
     }
    },
    "55274187bd1242c7915c181ae29ca629": {
     "model_module": "@jupyter-widgets/base",
     "model_module_version": "1.2.0",
     "model_name": "LayoutModel",
     "state": {
      "_model_module": "@jupyter-widgets/base",
      "_model_module_version": "1.2.0",
      "_model_name": "LayoutModel",
      "_view_count": null,
      "_view_module": "@jupyter-widgets/base",
      "_view_module_version": "1.2.0",
      "_view_name": "LayoutView",
      "align_content": null,
      "align_items": null,
      "align_self": null,
      "border": null,
      "bottom": null,
      "display": null,
      "flex": null,
      "flex_flow": null,
      "grid_area": null,
      "grid_auto_columns": null,
      "grid_auto_flow": null,
      "grid_auto_rows": null,
      "grid_column": null,
      "grid_gap": null,
      "grid_row": null,
      "grid_template_areas": null,
      "grid_template_columns": null,
      "grid_template_rows": null,
      "height": null,
      "justify_content": null,
      "justify_items": null,
      "left": null,
      "margin": null,
      "max_height": null,
      "max_width": null,
      "min_height": null,
      "min_width": null,
      "object_fit": null,
      "object_position": null,
      "order": null,
      "overflow": null,
      "overflow_x": null,
      "overflow_y": null,
      "padding": null,
      "right": null,
      "top": null,
      "visibility": null,
      "width": null
     }
    },
    "7c05e230e0c04b4b9ad7d4d2894d9b5a": {
     "model_module": "@jupyter-widgets/base",
     "model_module_version": "1.2.0",
     "model_name": "LayoutModel",
     "state": {
      "_model_module": "@jupyter-widgets/base",
      "_model_module_version": "1.2.0",
      "_model_name": "LayoutModel",
      "_view_count": null,
      "_view_module": "@jupyter-widgets/base",
      "_view_module_version": "1.2.0",
      "_view_name": "LayoutView",
      "align_content": null,
      "align_items": null,
      "align_self": null,
      "border": null,
      "bottom": null,
      "display": null,
      "flex": null,
      "flex_flow": null,
      "grid_area": null,
      "grid_auto_columns": null,
      "grid_auto_flow": null,
      "grid_auto_rows": null,
      "grid_column": null,
      "grid_gap": null,
      "grid_row": null,
      "grid_template_areas": null,
      "grid_template_columns": null,
      "grid_template_rows": null,
      "height": null,
      "justify_content": null,
      "justify_items": null,
      "left": null,
      "margin": null,
      "max_height": null,
      "max_width": null,
      "min_height": null,
      "min_width": null,
      "object_fit": null,
      "object_position": null,
      "order": null,
      "overflow": null,
      "overflow_x": null,
      "overflow_y": null,
      "padding": null,
      "right": null,
      "top": null,
      "visibility": null,
      "width": null
     }
    },
    "8152f00b91a440b6b2a89b0450f33863": {
     "model_module": "@jupyter-widgets/base",
     "model_module_version": "1.2.0",
     "model_name": "LayoutModel",
     "state": {
      "_model_module": "@jupyter-widgets/base",
      "_model_module_version": "1.2.0",
      "_model_name": "LayoutModel",
      "_view_count": null,
      "_view_module": "@jupyter-widgets/base",
      "_view_module_version": "1.2.0",
      "_view_name": "LayoutView",
      "align_content": null,
      "align_items": null,
      "align_self": null,
      "border": null,
      "bottom": null,
      "display": null,
      "flex": null,
      "flex_flow": null,
      "grid_area": null,
      "grid_auto_columns": null,
      "grid_auto_flow": null,
      "grid_auto_rows": null,
      "grid_column": null,
      "grid_gap": null,
      "grid_row": null,
      "grid_template_areas": null,
      "grid_template_columns": null,
      "grid_template_rows": null,
      "height": null,
      "justify_content": null,
      "justify_items": null,
      "left": null,
      "margin": null,
      "max_height": null,
      "max_width": null,
      "min_height": null,
      "min_width": null,
      "object_fit": null,
      "object_position": null,
      "order": null,
      "overflow": null,
      "overflow_x": null,
      "overflow_y": null,
      "padding": null,
      "right": null,
      "top": null,
      "visibility": null,
      "width": null
     }
    },
    "88c20260168948b9872d27fbdded9bc3": {
     "model_module": "@jupyter-widgets/controls",
     "model_module_version": "1.5.0",
     "model_name": "HTMLModel",
     "state": {
      "_dom_classes": [],
      "_model_module": "@jupyter-widgets/controls",
      "_model_module_version": "1.5.0",
      "_model_name": "HTMLModel",
      "_view_count": null,
      "_view_module": "@jupyter-widgets/controls",
      "_view_module_version": "1.5.0",
      "_view_name": "HTMLView",
      "description": "",
      "description_tooltip": null,
      "layout": "IPY_MODEL_a95bae4447e048348f556a54a5b6edad",
      "placeholder": "​",
      "style": "IPY_MODEL_366a9fec003a4f6493919f806cafc58d",
      "value": " 264M/264M [00:04&lt;00:00, 57.7MB/s]"
     }
    },
    "8f6d780f277d4f3b83aef4d5682524ce": {
     "model_module": "@jupyter-widgets/controls",
     "model_module_version": "1.5.0",
     "model_name": "HBoxModel",
     "state": {
      "_dom_classes": [],
      "_model_module": "@jupyter-widgets/controls",
      "_model_module_version": "1.5.0",
      "_model_name": "HBoxModel",
      "_view_count": null,
      "_view_module": "@jupyter-widgets/controls",
      "_view_module_version": "1.5.0",
      "_view_name": "HBoxView",
      "box_style": "",
      "children": [
       "IPY_MODEL_499dbcfa49424126945e7278be9d03b7",
       "IPY_MODEL_13b94d2b13ad47db9f15f35a51646a7c",
       "IPY_MODEL_88c20260168948b9872d27fbdded9bc3"
      ],
      "layout": "IPY_MODEL_55274187bd1242c7915c181ae29ca629"
     }
    },
    "970f81c26a394dc4bda3873eaaaac7c7": {
     "model_module": "@jupyter-widgets/controls",
     "model_module_version": "1.5.0",
     "model_name": "FloatProgressModel",
     "state": {
      "_dom_classes": [],
      "_model_module": "@jupyter-widgets/controls",
      "_model_module_version": "1.5.0",
      "_model_name": "FloatProgressModel",
      "_view_count": null,
      "_view_module": "@jupyter-widgets/controls",
      "_view_module_version": "1.5.0",
      "_view_name": "ProgressView",
      "bar_style": "success",
      "description": "",
      "description_tooltip": null,
      "layout": "IPY_MODEL_ccb054f633e94d9b8933c18c8d33b004",
      "max": 466,
      "min": 0,
      "orientation": "horizontal",
      "style": "IPY_MODEL_e77b002a23734ea1a745f451e89e3e7f",
      "value": 466
     }
    },
    "97f25fad58e74227a6749ebcb0d3a2ca": {
     "model_module": "@jupyter-widgets/controls",
     "model_module_version": "1.5.0",
     "model_name": "HBoxModel",
     "state": {
      "_dom_classes": [],
      "_model_module": "@jupyter-widgets/controls",
      "_model_module_version": "1.5.0",
      "_model_name": "HBoxModel",
      "_view_count": null,
      "_view_module": "@jupyter-widgets/controls",
      "_view_module_version": "1.5.0",
      "_view_name": "HBoxView",
      "box_style": "",
      "children": [
       "IPY_MODEL_4eda4eb6f402454dbcac5291a5f29abc",
       "IPY_MODEL_970f81c26a394dc4bda3873eaaaac7c7",
       "IPY_MODEL_c50b1366bd154b8e978f41c98ffd6ee7"
      ],
      "layout": "IPY_MODEL_ef31b7e1794f4b88b4f1f7c5f248a363"
     }
    },
    "a95bae4447e048348f556a54a5b6edad": {
     "model_module": "@jupyter-widgets/base",
     "model_module_version": "1.2.0",
     "model_name": "LayoutModel",
     "state": {
      "_model_module": "@jupyter-widgets/base",
      "_model_module_version": "1.2.0",
      "_model_name": "LayoutModel",
      "_view_count": null,
      "_view_module": "@jupyter-widgets/base",
      "_view_module_version": "1.2.0",
      "_view_name": "LayoutView",
      "align_content": null,
      "align_items": null,
      "align_self": null,
      "border": null,
      "bottom": null,
      "display": null,
      "flex": null,
      "flex_flow": null,
      "grid_area": null,
      "grid_auto_columns": null,
      "grid_auto_flow": null,
      "grid_auto_rows": null,
      "grid_column": null,
      "grid_gap": null,
      "grid_row": null,
      "grid_template_areas": null,
      "grid_template_columns": null,
      "grid_template_rows": null,
      "height": null,
      "justify_content": null,
      "justify_items": null,
      "left": null,
      "margin": null,
      "max_height": null,
      "max_width": null,
      "min_height": null,
      "min_width": null,
      "object_fit": null,
      "object_position": null,
      "order": null,
      "overflow": null,
      "overflow_x": null,
      "overflow_y": null,
      "padding": null,
      "right": null,
      "top": null,
      "visibility": null,
      "width": null
     }
    },
    "b89186f4e08f41ab98a4f9925218516b": {
     "model_module": "@jupyter-widgets/base",
     "model_module_version": "1.2.0",
     "model_name": "LayoutModel",
     "state": {
      "_model_module": "@jupyter-widgets/base",
      "_model_module_version": "1.2.0",
      "_model_name": "LayoutModel",
      "_view_count": null,
      "_view_module": "@jupyter-widgets/base",
      "_view_module_version": "1.2.0",
      "_view_name": "LayoutView",
      "align_content": null,
      "align_items": null,
      "align_self": null,
      "border": null,
      "bottom": null,
      "display": null,
      "flex": null,
      "flex_flow": null,
      "grid_area": null,
      "grid_auto_columns": null,
      "grid_auto_flow": null,
      "grid_auto_rows": null,
      "grid_column": null,
      "grid_gap": null,
      "grid_row": null,
      "grid_template_areas": null,
      "grid_template_columns": null,
      "grid_template_rows": null,
      "height": null,
      "justify_content": null,
      "justify_items": null,
      "left": null,
      "margin": null,
      "max_height": null,
      "max_width": null,
      "min_height": null,
      "min_width": null,
      "object_fit": null,
      "object_position": null,
      "order": null,
      "overflow": null,
      "overflow_x": null,
      "overflow_y": null,
      "padding": null,
      "right": null,
      "top": null,
      "visibility": null,
      "width": null
     }
    },
    "c50b1366bd154b8e978f41c98ffd6ee7": {
     "model_module": "@jupyter-widgets/controls",
     "model_module_version": "1.5.0",
     "model_name": "HTMLModel",
     "state": {
      "_dom_classes": [],
      "_model_module": "@jupyter-widgets/controls",
      "_model_module_version": "1.5.0",
      "_model_name": "HTMLModel",
      "_view_count": null,
      "_view_module": "@jupyter-widgets/controls",
      "_view_module_version": "1.5.0",
      "_view_name": "HTMLView",
      "description": "",
      "description_tooltip": null,
      "layout": "IPY_MODEL_b89186f4e08f41ab98a4f9925218516b",
      "placeholder": "​",
      "style": "IPY_MODEL_0d29f3b4df1e4ab7998be9759604e341",
      "value": " 466/466 [00:00&lt;00:00, 17.4kB/s]"
     }
    },
    "ca0c1884a74c4d43bf5c0f391abdcb94": {
     "model_module": "@jupyter-widgets/base",
     "model_module_version": "1.2.0",
     "model_name": "LayoutModel",
     "state": {
      "_model_module": "@jupyter-widgets/base",
      "_model_module_version": "1.2.0",
      "_model_name": "LayoutModel",
      "_view_count": null,
      "_view_module": "@jupyter-widgets/base",
      "_view_module_version": "1.2.0",
      "_view_name": "LayoutView",
      "align_content": null,
      "align_items": null,
      "align_self": null,
      "border": null,
      "bottom": null,
      "display": null,
      "flex": null,
      "flex_flow": null,
      "grid_area": null,
      "grid_auto_columns": null,
      "grid_auto_flow": null,
      "grid_auto_rows": null,
      "grid_column": null,
      "grid_gap": null,
      "grid_row": null,
      "grid_template_areas": null,
      "grid_template_columns": null,
      "grid_template_rows": null,
      "height": null,
      "justify_content": null,
      "justify_items": null,
      "left": null,
      "margin": null,
      "max_height": null,
      "max_width": null,
      "min_height": null,
      "min_width": null,
      "object_fit": null,
      "object_position": null,
      "order": null,
      "overflow": null,
      "overflow_x": null,
      "overflow_y": null,
      "padding": null,
      "right": null,
      "top": null,
      "visibility": null,
      "width": null
     }
    },
    "ccb054f633e94d9b8933c18c8d33b004": {
     "model_module": "@jupyter-widgets/base",
     "model_module_version": "1.2.0",
     "model_name": "LayoutModel",
     "state": {
      "_model_module": "@jupyter-widgets/base",
      "_model_module_version": "1.2.0",
      "_model_name": "LayoutModel",
      "_view_count": null,
      "_view_module": "@jupyter-widgets/base",
      "_view_module_version": "1.2.0",
      "_view_name": "LayoutView",
      "align_content": null,
      "align_items": null,
      "align_self": null,
      "border": null,
      "bottom": null,
      "display": null,
      "flex": null,
      "flex_flow": null,
      "grid_area": null,
      "grid_auto_columns": null,
      "grid_auto_flow": null,
      "grid_auto_rows": null,
      "grid_column": null,
      "grid_gap": null,
      "grid_row": null,
      "grid_template_areas": null,
      "grid_template_columns": null,
      "grid_template_rows": null,
      "height": null,
      "justify_content": null,
      "justify_items": null,
      "left": null,
      "margin": null,
      "max_height": null,
      "max_width": null,
      "min_height": null,
      "min_width": null,
      "object_fit": null,
      "object_position": null,
      "order": null,
      "overflow": null,
      "overflow_x": null,
      "overflow_y": null,
      "padding": null,
      "right": null,
      "top": null,
      "visibility": null,
      "width": null
     }
    },
    "e77b002a23734ea1a745f451e89e3e7f": {
     "model_module": "@jupyter-widgets/controls",
     "model_module_version": "1.5.0",
     "model_name": "ProgressStyleModel",
     "state": {
      "_model_module": "@jupyter-widgets/controls",
      "_model_module_version": "1.5.0",
      "_model_name": "ProgressStyleModel",
      "_view_count": null,
      "_view_module": "@jupyter-widgets/base",
      "_view_module_version": "1.2.0",
      "_view_name": "StyleView",
      "bar_color": null,
      "description_width": ""
     }
    },
    "ef31b7e1794f4b88b4f1f7c5f248a363": {
     "model_module": "@jupyter-widgets/base",
     "model_module_version": "1.2.0",
     "model_name": "LayoutModel",
     "state": {
      "_model_module": "@jupyter-widgets/base",
      "_model_module_version": "1.2.0",
      "_model_name": "LayoutModel",
      "_view_count": null,
      "_view_module": "@jupyter-widgets/base",
      "_view_module_version": "1.2.0",
      "_view_name": "LayoutView",
      "align_content": null,
      "align_items": null,
      "align_self": null,
      "border": null,
      "bottom": null,
      "display": null,
      "flex": null,
      "flex_flow": null,
      "grid_area": null,
      "grid_auto_columns": null,
      "grid_auto_flow": null,
      "grid_auto_rows": null,
      "grid_column": null,
      "grid_gap": null,
      "grid_row": null,
      "grid_template_areas": null,
      "grid_template_columns": null,
      "grid_template_rows": null,
      "height": null,
      "justify_content": null,
      "justify_items": null,
      "left": null,
      "margin": null,
      "max_height": null,
      "max_width": null,
      "min_height": null,
      "min_width": null,
      "object_fit": null,
      "object_position": null,
      "order": null,
      "overflow": null,
      "overflow_x": null,
      "overflow_y": null,
      "padding": null,
      "right": null,
      "top": null,
      "visibility": null,
      "width": null
     }
    }
   }
  }
 },
 "nbformat": 4,
 "nbformat_minor": 4
}
