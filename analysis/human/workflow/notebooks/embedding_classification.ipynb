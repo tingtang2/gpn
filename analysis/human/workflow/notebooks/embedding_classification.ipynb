{
 "cells": [
  {
   "cell_type": "code",
   "execution_count": 2,
   "id": "4a9a7a54-2104-48dd-9148-d6c1d80d3e6e",
   "metadata": {
    "tags": []
   },
   "outputs": [],
   "source": [
    "import matplotlib.pyplot as plt\n",
    "import numpy as np\n",
    "import pandas as pd\n",
    "from pathlib import Path\n",
    "import seaborn as sns\n",
    "from sklearn.metrics import ConfusionMatrixDisplay"
   ]
  },
  {
   "cell_type": "code",
   "execution_count": 3,
   "id": "47923ea3-7016-442e-9b19-284144f0cd57",
   "metadata": {
    "tags": []
   },
   "outputs": [
    {
     "data": {
      "text/html": [
       "<div>\n",
       "<style scoped>\n",
       "    .dataframe tbody tr th:only-of-type {\n",
       "        vertical-align: middle;\n",
       "    }\n",
       "\n",
       "    .dataframe tbody tr th {\n",
       "        vertical-align: top;\n",
       "    }\n",
       "\n",
       "    .dataframe thead th {\n",
       "        text-align: right;\n",
       "    }\n",
       "</style>\n",
       "<table border=\"1\" class=\"dataframe\">\n",
       "  <thead>\n",
       "    <tr style=\"text-align: right;\">\n",
       "      <th></th>\n",
       "      <th>chrom</th>\n",
       "      <th>start</th>\n",
       "      <th>end</th>\n",
       "      <th>strand</th>\n",
       "      <th>center_start</th>\n",
       "      <th>center_end</th>\n",
       "      <th>Region</th>\n",
       "      <th>pred_Region</th>\n",
       "    </tr>\n",
       "  </thead>\n",
       "  <tbody>\n",
       "    <tr>\n",
       "      <th>0</th>\n",
       "      <td>8</td>\n",
       "      <td>22104645</td>\n",
       "      <td>22104773</td>\n",
       "      <td>+</td>\n",
       "      <td>22104659</td>\n",
       "      <td>22104759</td>\n",
       "      <td>three_prime_utr</td>\n",
       "      <td>three_prime_utr</td>\n",
       "    </tr>\n",
       "    <tr>\n",
       "      <th>1</th>\n",
       "      <td>6</td>\n",
       "      <td>43017800</td>\n",
       "      <td>43017928</td>\n",
       "      <td>+</td>\n",
       "      <td>43017814</td>\n",
       "      <td>43017914</td>\n",
       "      <td>Intron</td>\n",
       "      <td>Intron</td>\n",
       "    </tr>\n",
       "    <tr>\n",
       "      <th>2</th>\n",
       "      <td>10</td>\n",
       "      <td>132228030</td>\n",
       "      <td>132228158</td>\n",
       "      <td>+</td>\n",
       "      <td>132228044</td>\n",
       "      <td>132228144</td>\n",
       "      <td>CDS</td>\n",
       "      <td>CDS</td>\n",
       "    </tr>\n",
       "    <tr>\n",
       "      <th>3</th>\n",
       "      <td>2</td>\n",
       "      <td>233802186</td>\n",
       "      <td>233802314</td>\n",
       "      <td>+</td>\n",
       "      <td>233802200</td>\n",
       "      <td>233802300</td>\n",
       "      <td>CDS</td>\n",
       "      <td>CDS</td>\n",
       "    </tr>\n",
       "    <tr>\n",
       "      <th>4</th>\n",
       "      <td>11</td>\n",
       "      <td>108158364</td>\n",
       "      <td>108158492</td>\n",
       "      <td>+</td>\n",
       "      <td>108158378</td>\n",
       "      <td>108158478</td>\n",
       "      <td>three_prime_utr</td>\n",
       "      <td>three_prime_utr</td>\n",
       "    </tr>\n",
       "    <tr>\n",
       "      <th>...</th>\n",
       "      <td>...</td>\n",
       "      <td>...</td>\n",
       "      <td>...</td>\n",
       "      <td>...</td>\n",
       "      <td>...</td>\n",
       "      <td>...</td>\n",
       "      <td>...</td>\n",
       "      <td>...</td>\n",
       "    </tr>\n",
       "    <tr>\n",
       "      <th>107599</th>\n",
       "      <td>3</td>\n",
       "      <td>20038083</td>\n",
       "      <td>20038211</td>\n",
       "      <td>+</td>\n",
       "      <td>20038097</td>\n",
       "      <td>20038197</td>\n",
       "      <td>Intergenic</td>\n",
       "      <td>Intergenic</td>\n",
       "    </tr>\n",
       "    <tr>\n",
       "      <th>107600</th>\n",
       "      <td>5</td>\n",
       "      <td>75583607</td>\n",
       "      <td>75583735</td>\n",
       "      <td>+</td>\n",
       "      <td>75583621</td>\n",
       "      <td>75583721</td>\n",
       "      <td>Intron</td>\n",
       "      <td>three_prime_utr</td>\n",
       "    </tr>\n",
       "    <tr>\n",
       "      <th>107601</th>\n",
       "      <td>14</td>\n",
       "      <td>70032013</td>\n",
       "      <td>70032141</td>\n",
       "      <td>+</td>\n",
       "      <td>70032027</td>\n",
       "      <td>70032127</td>\n",
       "      <td>three_prime_utr</td>\n",
       "      <td>three_prime_utr</td>\n",
       "    </tr>\n",
       "    <tr>\n",
       "      <th>107602</th>\n",
       "      <td>20</td>\n",
       "      <td>63312819</td>\n",
       "      <td>63312947</td>\n",
       "      <td>+</td>\n",
       "      <td>63312833</td>\n",
       "      <td>63312933</td>\n",
       "      <td>CDS</td>\n",
       "      <td>CDS</td>\n",
       "    </tr>\n",
       "    <tr>\n",
       "      <th>107603</th>\n",
       "      <td>14</td>\n",
       "      <td>39348813</td>\n",
       "      <td>39348941</td>\n",
       "      <td>+</td>\n",
       "      <td>39348827</td>\n",
       "      <td>39348927</td>\n",
       "      <td>CDS</td>\n",
       "      <td>CDS</td>\n",
       "    </tr>\n",
       "  </tbody>\n",
       "</table>\n",
       "<p>107604 rows × 8 columns</p>\n",
       "</div>"
      ],
      "text/plain": [
       "       chrom      start        end strand  center_start  center_end   \n",
       "0          8   22104645   22104773      +      22104659    22104759  \\\n",
       "1          6   43017800   43017928      +      43017814    43017914   \n",
       "2         10  132228030  132228158      +     132228044   132228144   \n",
       "3          2  233802186  233802314      +     233802200   233802300   \n",
       "4         11  108158364  108158492      +     108158378   108158478   \n",
       "...      ...        ...        ...    ...           ...         ...   \n",
       "107599     3   20038083   20038211      +      20038097    20038197   \n",
       "107600     5   75583607   75583735      +      75583621    75583721   \n",
       "107601    14   70032013   70032141      +      70032027    70032127   \n",
       "107602    20   63312819   63312947      +      63312833    63312933   \n",
       "107603    14   39348813   39348941      +      39348827    39348927   \n",
       "\n",
       "                 Region      pred_Region  \n",
       "0       three_prime_utr  three_prime_utr  \n",
       "1                Intron           Intron  \n",
       "2                   CDS              CDS  \n",
       "3                   CDS              CDS  \n",
       "4       three_prime_utr  three_prime_utr  \n",
       "...                 ...              ...  \n",
       "107599       Intergenic       Intergenic  \n",
       "107600           Intron  three_prime_utr  \n",
       "107601  three_prime_utr  three_prime_utr  \n",
       "107602              CDS              CDS  \n",
       "107603              CDS              CDS  \n",
       "\n",
       "[107604 rows x 8 columns]"
      ]
     },
     "execution_count": 3,
     "metadata": {},
     "output_type": "execute_result"
    }
   ],
   "source": [
    "MODEL = \"multiz100way/89/128/64/True/defined.phastCons.percentile-75_0.05_0.001/medium/0.1/42/30000/True/True/True\"\n",
    "d = Path(\"../../results/embedding\")\n",
    "windows = pd.read_parquet(d / \"windows.parquet\")\n",
    "windows[\"pred_Region\"] = pd.read_parquet(d / \"classification\" / f\"{MODEL}.parquet\").pred_Region.values\n",
    "region_renaming = {\n",
    "    \"intergenic\": \"Intergenic\",\n",
    "    \"intron\": \"Intron\",\n",
    "    \"ncRNA_gene\": \"ncRNA\",\n",
    "    \"five_prime_UTR\": \"5' UTR\",\n",
    "    \"three_prime_UTR\": \"3' UTR\",\n",
    "}\n",
    "windows.Region = windows.Region.replace(region_renaming)\n",
    "windows.pred_Region = windows.pred_Region.replace(region_renaming)\n",
    "windows"
   ]
  },
  {
   "cell_type": "code",
   "execution_count": 8,
   "id": "4ace6395-5af4-489a-acd7-f4bedafd77db",
   "metadata": {
    "tags": []
   },
   "outputs": [],
   "source": [
    "regions = windows.Region.unique()"
   ]
  },
  {
   "cell_type": "code",
   "execution_count": 4,
   "id": "24809121-18df-461a-993b-f3853a1015de",
   "metadata": {
    "tags": []
   },
   "outputs": [
    {
     "data": {
      "text/plain": [
       "Region\n",
       "three_prime_utr    17934\n",
       "Intron             17934\n",
       "CDS                17934\n",
       "Repeat             17934\n",
       "five_prime_utr     17934\n",
       "Intergenic         17934\n",
       "Name: count, dtype: int64"
      ]
     },
     "execution_count": 4,
     "metadata": {},
     "output_type": "execute_result"
    }
   ],
   "source": [
    "windows.Region.value_counts()"
   ]
  },
  {
   "cell_type": "code",
   "execution_count": 10,
   "id": "ef6bbd02-3c2b-44cb-811d-cc8c6e7757e2",
   "metadata": {
    "tags": []
   },
   "outputs": [
    {
     "data": {
      "image/png": "[encoded data removed]",
      "text/plain": [
       "<Figure size 432x288 with 2 Axes>"
      ]
     },
     "metadata": {
      "needs_background": "light"
     },
     "output_type": "display_data"
    }
   ],
   "source": [
    "ConfusionMatrixDisplay.from_predictions(\n",
    "    windows.Region, windows.pred_Region, normalize='true', labels=regions,\n",
    "    values_format=\".0%\", im_kw=dict(vmin=0, vmax=1),\n",
    ")\n",
    "plt.xticks(rotation=45);\n",
    "#plt.savefig(f\"results/plots/classification_{MODEL.replace('/', '_')}.svg\", bbox_inches=\"tight\")"
   ]
  },
  {
   "cell_type": "code",
   "execution_count": null,
   "id": "03206029-9e20-427c-9a84-6b971b35ace9",
   "metadata": {},
   "outputs": [],
   "source": []
  }
 ],
 "metadata": {
  "kernelspec": {
   "display_name": "gpn",
   "language": "python",
   "name": "gpn"
  },
  "language_info": {
   "codemirror_mode": {
    "name": "ipython",
    "version": 3
   },
   "file_extension": ".py",
   "mimetype": "text/x-python",
   "name": "python",
   "nbconvert_exporter": "python",
   "pygments_lexer": "ipython3",
   "version": "3.11.3"
  }
 },
 "nbformat": 4,
 "nbformat_minor": 5
}
