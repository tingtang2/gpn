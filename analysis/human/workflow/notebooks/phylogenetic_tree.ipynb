{
 "cells": [
  {
   "cell_type": "code",
   "execution_count": 1,
   "id": "ea5b0aa8",
   "metadata": {
    "tags": []
   },
   "outputs": [],
   "source": [
    "from ete3 import Tree, TreeStyle, NodeStyle, TextFace"
   ]
  },
  {
   "cell_type": "code",
   "execution_count": 2,
   "id": "3a70a2ea-c7a8-40d4-a2b1-91c044f4bf7b",
   "metadata": {
    "tags": []
   },
   "outputs": [],
   "source": [
    "#!wget http://hgdownload.soe.ucsc.edu/goldenPath/hg38/multiz100way/hg38.100way.commonNames.nh\n",
    "tree_path = \"hg38.100way.commonNames.nh\""
   ]
  },
  {
   "cell_type": "code",
   "execution_count": 15,
   "id": "c06d3a22-4633-4bc1-bad9-749bde94f0fb",
   "metadata": {
    "tags": []
   },
   "outputs": [],
   "source": [
    "t = Tree(tree_path)\n",
    "\n",
    "# optional\n",
    "t.prune([\"Human\", \"Chimp\", \"Mouse\", \"Chicken\", \"Zebrafish\"])\n",
    "\n",
    "for node in t.traverse():\n",
    "    node.name = node.name.replace(\n",
    "        \"_\", \" \"\n",
    "    ).replace(\n",
    "        \"Crab eating\", \"Crab-eating\"\n",
    "    ).replace(\n",
    "        \"mole rat\", \"mole-rat\"\n",
    "    ).replace(\n",
    "        \"Brush tailed\", \"Brush-tailed\"\n",
    "    ).replace(\n",
    "        \"flying fox\", \"flying-fox\"\n",
    "    ).replace(\n",
    "        \"Star nosed\", \"Star-nosed\"\n",
    "    ).replace(\n",
    "        \"White throated\", \"White-throated\"\n",
    "    )\n",
    "    \n",
    "ts = TreeStyle()\n",
    "#ts.mode = \"c\"  # Circular\n",
    "#ts.show_scale = False  # Hide the scale\n",
    "ts.margin_right = 24\n",
    "ts.margin_bottom = -4\n",
    "\n",
    "nstyle = NodeStyle()\n",
    "nstyle[\"size\"] = 0  # remove the blue dot\n",
    "nstyle[\"hz_line_width\"] = 1  # Set horizontal line width\n",
    "nstyle[\"vt_line_width\"] = 1  # Set vertical line width\n",
    "\n",
    "for node in t.traverse():\n",
    "    node.set_style(nstyle)\n",
    "    \n",
    "t.render(\"tree_r.svg\", tree_style=ts);\n",
    "#t.render(\"tree_c.pdf\", tree_style=ts, w=150, units=\"mm\");"
   ]
  },
  {
   "cell_type": "code",
   "execution_count": null,
   "id": "d5b91168",
   "metadata": {},
   "outputs": [],
   "source": []
  }
 ],
 "metadata": {
  "kernelspec": {
   "display_name": "Python 3 (ipykernel)",
   "language": "python",
   "name": "python3"
  },
  "language_info": {
   "codemirror_mode": {
    "name": "ipython",
    "version": 3
   },
   "file_extension": ".py",
   "mimetype": "text/x-python",
   "name": "python",
   "nbconvert_exporter": "python",
   "pygments_lexer": "ipython3",
   "version": "3.9.7"
  }
 },
 "nbformat": 4,
 "nbformat_minor": 5
}
