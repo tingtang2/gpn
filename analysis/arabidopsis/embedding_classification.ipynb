{
 "cells": [
  {
   "cell_type": "code",
   "execution_count": 1,
   "id": "4a9a7a54-2104-48dd-9148-d6c1d80d3e6e",
   "metadata": {
    "tags": []
   },
   "outputs": [],
   "source": [
    "import matplotlib.pyplot as plt\n",
    "import numpy as np\n",
    "import pandas as pd\n",
    "from pathlib import Path\n",
    "import seaborn as sns\n",
    "from sklearn.metrics import ConfusionMatrixDisplay"
   ]
  },
  {
   "cell_type": "code",
   "execution_count": 11,
   "id": "47923ea3-7016-442e-9b19-284144f0cd57",
   "metadata": {
    "tags": []
   },
   "outputs": [
    {
     "data": {
      "text/html": [
       "<div>\n",
       "<style scoped>\n",
       "    .dataframe tbody tr th:only-of-type {\n",
       "        vertical-align: middle;\n",
       "    }\n",
       "\n",
       "    .dataframe tbody tr th {\n",
       "        vertical-align: top;\n",
       "    }\n",
       "\n",
       "    .dataframe thead th {\n",
       "        text-align: right;\n",
       "    }\n",
       "</style>\n",
       "<table border=\"1\" class=\"dataframe\">\n",
       "  <thead>\n",
       "    <tr style=\"text-align: right;\">\n",
       "      <th></th>\n",
       "      <th>chrom</th>\n",
       "      <th>start</th>\n",
       "      <th>end</th>\n",
       "      <th>strand</th>\n",
       "      <th>center_start</th>\n",
       "      <th>center_end</th>\n",
       "      <th>Region</th>\n",
       "      <th>pred_Region</th>\n",
       "    </tr>\n",
       "  </thead>\n",
       "  <tbody>\n",
       "    <tr>\n",
       "      <th>0</th>\n",
       "      <td>1</td>\n",
       "      <td>0</td>\n",
       "      <td>512</td>\n",
       "      <td>+</td>\n",
       "      <td>206</td>\n",
       "      <td>306</td>\n",
       "      <td>Intergenic</td>\n",
       "      <td>ncRNA</td>\n",
       "    </tr>\n",
       "    <tr>\n",
       "      <th>1</th>\n",
       "      <td>1</td>\n",
       "      <td>100</td>\n",
       "      <td>612</td>\n",
       "      <td>+</td>\n",
       "      <td>306</td>\n",
       "      <td>406</td>\n",
       "      <td>Intergenic</td>\n",
       "      <td>3' UTR</td>\n",
       "    </tr>\n",
       "    <tr>\n",
       "      <th>2</th>\n",
       "      <td>1</td>\n",
       "      <td>200</td>\n",
       "      <td>712</td>\n",
       "      <td>+</td>\n",
       "      <td>406</td>\n",
       "      <td>506</td>\n",
       "      <td>Intergenic</td>\n",
       "      <td>Intergenic</td>\n",
       "    </tr>\n",
       "    <tr>\n",
       "      <th>3</th>\n",
       "      <td>1</td>\n",
       "      <td>300</td>\n",
       "      <td>812</td>\n",
       "      <td>+</td>\n",
       "      <td>506</td>\n",
       "      <td>606</td>\n",
       "      <td>Intergenic</td>\n",
       "      <td>ncRNA</td>\n",
       "    </tr>\n",
       "    <tr>\n",
       "      <th>4</th>\n",
       "      <td>1</td>\n",
       "      <td>400</td>\n",
       "      <td>912</td>\n",
       "      <td>+</td>\n",
       "      <td>606</td>\n",
       "      <td>706</td>\n",
       "      <td>Intergenic</td>\n",
       "      <td>ncRNA</td>\n",
       "    </tr>\n",
       "    <tr>\n",
       "      <th>...</th>\n",
       "      <td>...</td>\n",
       "      <td>...</td>\n",
       "      <td>...</td>\n",
       "      <td>...</td>\n",
       "      <td>...</td>\n",
       "      <td>...</td>\n",
       "      <td>...</td>\n",
       "      <td>...</td>\n",
       "    </tr>\n",
       "    <tr>\n",
       "      <th>818088</th>\n",
       "      <td>5</td>\n",
       "      <td>26974534</td>\n",
       "      <td>26975046</td>\n",
       "      <td>+</td>\n",
       "      <td>26974740</td>\n",
       "      <td>26974840</td>\n",
       "      <td>Intergenic</td>\n",
       "      <td>Intergenic</td>\n",
       "    </tr>\n",
       "    <tr>\n",
       "      <th>818089</th>\n",
       "      <td>5</td>\n",
       "      <td>26974634</td>\n",
       "      <td>26975146</td>\n",
       "      <td>+</td>\n",
       "      <td>26974840</td>\n",
       "      <td>26974940</td>\n",
       "      <td>Intergenic</td>\n",
       "      <td>Intergenic</td>\n",
       "    </tr>\n",
       "    <tr>\n",
       "      <th>818090</th>\n",
       "      <td>5</td>\n",
       "      <td>26974734</td>\n",
       "      <td>26975246</td>\n",
       "      <td>+</td>\n",
       "      <td>26974940</td>\n",
       "      <td>26975040</td>\n",
       "      <td>Intergenic</td>\n",
       "      <td>Intergenic</td>\n",
       "    </tr>\n",
       "    <tr>\n",
       "      <th>818091</th>\n",
       "      <td>5</td>\n",
       "      <td>26974834</td>\n",
       "      <td>26975346</td>\n",
       "      <td>+</td>\n",
       "      <td>26975040</td>\n",
       "      <td>26975140</td>\n",
       "      <td>Intergenic</td>\n",
       "      <td>Intergenic</td>\n",
       "    </tr>\n",
       "    <tr>\n",
       "      <th>818092</th>\n",
       "      <td>5</td>\n",
       "      <td>26974934</td>\n",
       "      <td>26975446</td>\n",
       "      <td>+</td>\n",
       "      <td>26975140</td>\n",
       "      <td>26975240</td>\n",
       "      <td>Intergenic</td>\n",
       "      <td>Intergenic</td>\n",
       "    </tr>\n",
       "  </tbody>\n",
       "</table>\n",
       "<p>818093 rows × 8 columns</p>\n",
       "</div>"
      ],
      "text/plain": [
       "       chrom     start       end strand  center_start  center_end      Region   \n",
       "0          1         0       512      +           206         306  Intergenic  \\\n",
       "1          1       100       612      +           306         406  Intergenic   \n",
       "2          1       200       712      +           406         506  Intergenic   \n",
       "3          1       300       812      +           506         606  Intergenic   \n",
       "4          1       400       912      +           606         706  Intergenic   \n",
       "...      ...       ...       ...    ...           ...         ...         ...   \n",
       "818088     5  26974534  26975046      +      26974740    26974840  Intergenic   \n",
       "818089     5  26974634  26975146      +      26974840    26974940  Intergenic   \n",
       "818090     5  26974734  26975246      +      26974940    26975040  Intergenic   \n",
       "818091     5  26974834  26975346      +      26975040    26975140  Intergenic   \n",
       "818092     5  26974934  26975446      +      26975140    26975240  Intergenic   \n",
       "\n",
       "       pred_Region  \n",
       "0            ncRNA  \n",
       "1           3' UTR  \n",
       "2       Intergenic  \n",
       "3            ncRNA  \n",
       "4            ncRNA  \n",
       "...            ...  \n",
       "818088  Intergenic  \n",
       "818089  Intergenic  \n",
       "818090  Intergenic  \n",
       "818091  Intergenic  \n",
       "818092  Intergenic  \n",
       "\n",
       "[818093 rows x 8 columns]"
      ]
     },
     "execution_count": 11,
     "metadata": {},
     "output_type": "execute_result"
    }
   ],
   "source": [
    "MODEL = \"gonzalobenegas/gpn-brassicales\"\n",
    "#MODEL = \"kmers_3\"\n",
    "#MODEL = \"kmers_6\"\n",
    "\n",
    "d = Path(\"output/embedding\")\n",
    "windows = pd.read_parquet(d / \"windows.parquet\")\n",
    "windows[\"pred_Region\"] = pd.read_parquet(d / \"classification\" / f\"{MODEL}.parquet\").pred_Region.values\n",
    "region_renaming = {\n",
    "    \"intergenic\": \"Intergenic\",\n",
    "    \"intron\": \"Intron\",\n",
    "    \"ncRNA_gene\": \"ncRNA\",\n",
    "    \"five_prime_UTR\": \"5' UTR\",\n",
    "    \"three_prime_UTR\": \"3' UTR\",\n",
    "}\n",
    "windows.Region = windows.Region.replace(region_renaming)\n",
    "windows.pred_Region = windows.pred_Region.replace(region_renaming)\n",
    "windows"
   ]
  },
  {
   "cell_type": "code",
   "execution_count": 12,
   "id": "b1f5e5ab-82bc-43e2-baa8-f42ca2c78b37",
   "metadata": {
    "tags": []
   },
   "outputs": [
    {
     "data": {
      "text/plain": [
       "['Intergenic', 'CDS', 'Intron', \"3' UTR\", \"5' UTR\", 'ncRNA', 'Repeat']"
      ]
     },
     "execution_count": 12,
     "metadata": {},
     "output_type": "execute_result"
    }
   ],
   "source": [
    "regions = windows.Region.value_counts().index.values\n",
    "\n",
    "# Make sure Repeat goes last\n",
    "if \"Repeat\" in regions:\n",
    "    regions = regions[regions!=\"Repeat\"].tolist() + [\"Repeat\"]\n",
    "regions"
   ]
  },
  {
   "cell_type": "code",
   "execution_count": 13,
   "id": "ef6bbd02-3c2b-44cb-811d-cc8c6e7757e2",
   "metadata": {
    "tags": []
   },
   "outputs": [
    {
     "data": {
      "image/png": "[encoded data removed]",
      "text/plain": [
       "<Figure size 432x288 with 2 Axes>"
      ]
     },
     "metadata": {
      "needs_background": "light"
     },
     "output_type": "display_data"
    }
   ],
   "source": [
    "ConfusionMatrixDisplay.from_predictions(\n",
    "    windows.Region, windows.pred_Region, normalize='true', labels=regions,\n",
    "    values_format=\".0%\", im_kw=dict(vmin=0, vmax=1),\n",
    ")\n",
    "plt.xticks(rotation=45);\n",
    "plt.savefig(f\"output/plots/classification_{MODEL.replace('/', '_')}.svg\", bbox_inches=\"tight\")"
   ]
  },
  {
   "cell_type": "code",
   "execution_count": null,
   "id": "03206029-9e20-427c-9a84-6b971b35ace9",
   "metadata": {},
   "outputs": [],
   "source": []
  }
 ],
 "metadata": {
  "kernelspec": {
   "display_name": "gpn",
   "language": "python",
   "name": "gpn"
  },
  "language_info": {
   "codemirror_mode": {
    "name": "ipython",
    "version": 3
   },
   "file_extension": ".py",
   "mimetype": "text/x-python",
   "name": "python",
   "nbconvert_exporter": "python",
   "pygments_lexer": "ipython3",
   "version": "3.11.3"
  }
 },
 "nbformat": 4,
 "nbformat_minor": 5
}
